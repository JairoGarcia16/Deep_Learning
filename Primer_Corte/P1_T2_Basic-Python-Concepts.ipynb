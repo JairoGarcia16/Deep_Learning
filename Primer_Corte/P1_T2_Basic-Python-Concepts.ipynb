{
  "nbformat": 4,
  "nbformat_minor": 0,
  "metadata": {
    "colab": {
      "name": "P2_T2_Basic-Python.ipynb",
      "provenance": [],
      "collapsed_sections": [
        "9Ez0RZJov1ac",
        "gomHiJ9DxqfO",
        "WAH80bMEx4z-",
        "68zUmX1_x90f"
      ]
    },
    "kernelspec": {
      "name": "python3",
      "display_name": "Python 3"
    },
    "language_info": {
      "name": "python"
    }
  },
  "cells": [
    {
      "cell_type": "markdown",
      "source": [
        "#Conceptos de python\n",
        "---\n",
        "\n",
        "\n",
        "\n",
        "*   @Author Jairo Eduardo Garcia Sisa\n",
        "*   Exercise bookstores and repase the basic concepts for the pyrhon\n",
        "*   2251100 /  Date : 19/02/22\n",
        "\n",
        "\n",
        "\n"
      ],
      "metadata": {
        "id": "f4lgwP4VvgGB"
      }
    },
    {
      "cell_type": "markdown",
      "source": [
        "##Ejercicios de python\n"
      ],
      "metadata": {
        "id": "9Ez0RZJov1ac"
      }
    },
    {
      "cell_type": "markdown",
      "source": [
        "\n",
        "###Metodo clasico\n",
        "\n",
        "*   Realice un programa en Python que determine el mayor de tres números:\n",
        "\n",
        "\n"
      ],
      "metadata": {
        "id": "jAYJg9mtwCAG"
      }
    },
    {
      "cell_type": "code",
      "source": [
        "var1=int(input(\"ingresar el valor de la 1° variable:\"))\n",
        "var2=int(input(\"ingresar el valor de la 2° variable:\"))\n",
        "var3=int(input(\"ingresar el valor de la 3° variable:\"))\n",
        "if (var1>var2 and var1>var3):\n",
        "  print(\"El mayor es:\"+ str(var1))\n",
        "elif (var2>var1 and var2>var3):\n",
        " print(\"El mayor es: \"+ str(var2))\n",
        "else:\n",
        "  print(\"El mayor es: \"+ str(var3))"
      ],
      "metadata": {
        "colab": {
          "base_uri": "https://localhost:8080/"
        },
        "id": "ifAhnbcCwH8L",
        "outputId": "fad252c7-da06-436d-b9b7-0f59f682e4a5"
      },
      "execution_count": null,
      "outputs": [
        {
          "output_type": "stream",
          "name": "stdout",
          "text": [
            "ingresar el valor de la 1° variable:1\n",
            "ingresar el valor de la 2° variable:2\n",
            "ingresar el valor de la 3° variable:6\n",
            "El mayor es: 6\n"
          ]
        }
      ]
    },
    {
      "cell_type": "markdown",
      "source": [
        "###Metodo python"
      ],
      "metadata": {
        "id": "V-EqGL1zxiM_"
      }
    },
    {
      "cell_type": "code",
      "execution_count": null,
      "metadata": {
        "id": "oRmUdQNBvQGs"
      },
      "outputs": [],
      "source": [
        "var1, var2, var3 = input(\"Ingrese los tres numeros separados por coma:\") .split(\",\")\n",
        "print(\"El numero maximo es: \" + str(max(var1,var2,var3)))"
      ]
    },
    {
      "cell_type": "markdown",
      "source": [
        "##Segundo ejercicio "
      ],
      "metadata": {
        "id": "gomHiJ9DxqfO"
      }
    },
    {
      "cell_type": "markdown",
      "source": [
        "###Metodo Clasico\n",
        "\n",
        "\n",
        "*   Diseñar un programa en PYTHON donde se ingresen N cantidad de números y me imprima la suma\n",
        "\n",
        "\n"
      ],
      "metadata": {
        "id": "cYnSGI30xwgH"
      }
    },
    {
      "cell_type": "code",
      "source": [
        "tot=int(input(\"Ingrese la cantidad N de números: \"))\n",
        "suma=0\n",
        "for i in range(0, tot):\n",
        "  suma+=int  (input(\"ingrese el valor del num\"+str(i)+\":\"))\n",
        "print(\"El total es: \"+str(suma))"
      ],
      "metadata": {
        "id": "mCUrrWiRxp6U",
        "colab": {
          "base_uri": "https://localhost:8080/"
        },
        "outputId": "6941c84c-6bc4-412d-d6f7-1df6a093f555"
      },
      "execution_count": 20,
      "outputs": [
        {
          "output_type": "stream",
          "name": "stdout",
          "text": [
            "Ingrese la cantidad N de números: 4\n",
            "ingrese el valor del num0:1\n",
            "ingrese el valor del num1:2\n",
            "ingrese el valor del num2:3\n",
            "ingrese el valor del num3:4\n",
            "El total es: 10\n"
          ]
        }
      ]
    },
    {
      "cell_type": "markdown",
      "source": [
        "###Metodo python"
      ],
      "metadata": {
        "id": "WAH80bMEx4z-"
      }
    },
    {
      "cell_type": "code",
      "source": [
        "suma=0\n",
        "for i in range(0, int(input(\"Ingrese la cantidad N de números: \"))):\n",
        "  suma+=int(input(\"ingrese el valor del num\"+str(i)+\":\"))\n",
        "print(\"El total es: \"+str(suma))"
      ],
      "metadata": {
        "id": "gUkTiz34x7KX",
        "colab": {
          "base_uri": "https://localhost:8080/"
        },
        "outputId": "245c99af-8467-4087-c41d-6877488d27a3"
      },
      "execution_count": 21,
      "outputs": [
        {
          "output_type": "stream",
          "name": "stdout",
          "text": [
            "Ingrese la cantidad N de números: 4\n",
            "ingrese el valor del num0:1\n",
            "ingrese el valor del num1:2\n",
            "ingrese el valor del num2:3\n",
            "ingrese el valor del num3:4\n",
            "El total es: 10\n"
          ]
        }
      ]
    },
    {
      "cell_type": "markdown",
      "source": [
        "##Tercer ejercicio"
      ],
      "metadata": {
        "id": "68zUmX1_x90f"
      }
    },
    {
      "cell_type": "markdown",
      "source": [
        "###Metodo clasico\n",
        "\n",
        "\n",
        "*   Diseñe un programa (máximo 5 líneas) que me visualice únicamente los números pares existentes entre dos números.\n",
        "\n"
      ],
      "metadata": {
        "id": "g4InQss_yABo"
      }
    },
    {
      "cell_type": "code",
      "source": [
        "inicio=int(input(\"Numero minimo: \"))\n",
        "fin=int(input(\"Numero final: \")) \n",
        "for i in range(inicio,fin):\n",
        "  if ((i%2)==0):\n",
        "    print(\"El numero par: \" + str(i))"
      ],
      "metadata": {
        "id": "cyJDdHfQyJf3",
        "colab": {
          "base_uri": "https://localhost:8080/"
        },
        "outputId": "9afed4fb-a7a6-4c76-8e48-ba1227edb4d1"
      },
      "execution_count": 22,
      "outputs": [
        {
          "output_type": "stream",
          "name": "stdout",
          "text": [
            "Numero minimo: 3\n",
            "Numero final: 5\n",
            "El numero par: 4\n"
          ]
        }
      ]
    },
    {
      "cell_type": "markdown",
      "source": [
        "###Metodo python"
      ],
      "metadata": {
        "id": "Ph2oof2KyLEI"
      }
    },
    {
      "cell_type": "code",
      "source": [
        "for i in range(int(input(\"Número minimo: \")),int(input(\"Número final: \"))):\n",
        "  if((i%2)==0): \n",
        "    print(\"El numero par :\"+ str(i))"
      ],
      "metadata": {
        "id": "owie52wvyN93",
        "colab": {
          "base_uri": "https://localhost:8080/"
        },
        "outputId": "bb511081-3b6b-4665-cae4-6ed768ea0790"
      },
      "execution_count": 23,
      "outputs": [
        {
          "output_type": "stream",
          "name": "stdout",
          "text": [
            "Número minimo: 2\n",
            "Número final: 5\n",
            "El numero par :2\n",
            "El numero par :4\n"
          ]
        }
      ]
    },
    {
      "cell_type": "markdown",
      "source": [
        "#Manejo de listas y vectores"
      ],
      "metadata": {
        "id": "aAZm3RKnyPLC"
      }
    },
    {
      "cell_type": "markdown",
      "source": [
        "##Primer Ejercicio\n",
        "\n",
        "Diseñe un programa que me visualice dos listado concatenados:\n",
        "\n",
        "*   Uno donde los números sean de 1 al 12.\n",
        "\n",
        "*   Otro listado donde los números sean del 12 al 1\n",
        "\n",
        "\n"
      ],
      "metadata": {
        "id": "3kksxXUOyTZJ"
      }
    },
    {
      "cell_type": "code",
      "source": [
        "# Metodo clasico\n",
        "rango1=list(range(1,13)) \n",
        "rango2=list(range(12,0,-1)) \n",
        "print(rango1+rango2)"
      ],
      "metadata": {
        "id": "WlmFTXlbypGY",
        "colab": {
          "base_uri": "https://localhost:8080/"
        },
        "outputId": "3a819ee1-2217-4eaa-cfc2-8fba6ce56c8e"
      },
      "execution_count": 24,
      "outputs": [
        {
          "output_type": "stream",
          "name": "stdout",
          "text": [
            "[1, 2, 3, 4, 5, 6, 7, 8, 9, 10, 11, 12, 12, 11, 10, 9, 8, 7, 6, 5, 4, 3, 2, 1]\n"
          ]
        }
      ]
    },
    {
      "cell_type": "code",
      "source": [
        "# Metodo Python\n",
        "lista = list(range(1,12))\n",
        "print(lista+lista[::-1])"
      ],
      "metadata": {
        "id": "Vt3r74j-yspu",
        "colab": {
          "base_uri": "https://localhost:8080/"
        },
        "outputId": "170e07e8-ea23-454b-cf92-cd92de392032"
      },
      "execution_count": 25,
      "outputs": [
        {
          "output_type": "stream",
          "name": "stdout",
          "text": [
            "[1, 2, 3, 4, 5, 6, 7, 8, 9, 10, 11, 11, 10, 9, 8, 7, 6, 5, 4, 3, 2, 1]\n"
          ]
        }
      ]
    },
    {
      "cell_type": "markdown",
      "source": [
        "#Librerías Básicas\n",
        "\n",
        "librerías de números randomicos"
      ],
      "metadata": {
        "id": "jYF_tyo8y4wF"
      }
    },
    {
      "cell_type": "code",
      "source": [
        "import random\n",
        "Var1= random.randrange(101)\n",
        "print(Var1)"
      ],
      "metadata": {
        "id": "lP1HCc2szAZ3",
        "colab": {
          "base_uri": "https://localhost:8080/"
        },
        "outputId": "5f241d44-1e3d-43a4-896f-1c86a36ec803"
      },
      "execution_count": 26,
      "outputs": [
        {
          "output_type": "stream",
          "name": "stdout",
          "text": [
            "9\n"
          ]
        }
      ]
    },
    {
      "cell_type": "markdown",
      "source": [
        "Diseñe un programa que me visualice un listado de 10 números aleatorios entre 1 y 100"
      ],
      "metadata": {
        "id": "W2c1BuFG0ruI"
      }
    },
    {
      "cell_type": "code",
      "source": [
        "#Método clásico\n",
        "import random\n",
        "lista= [ random.randrange(10) for i in range(10)]\n",
        "print(lista)"
      ],
      "metadata": {
        "id": "R4t2ulvN0q-f",
        "colab": {
          "base_uri": "https://localhost:8080/"
        },
        "outputId": "a81dd085-63a5-4e1c-b075-ccccbbeb8c41"
      },
      "execution_count": 7,
      "outputs": [
        {
          "output_type": "stream",
          "name": "stdout",
          "text": [
            "[4, 1, 6, 6, 1, 2, 4, 5, 3, 5]\n"
          ]
        }
      ]
    },
    {
      "cell_type": "code",
      "source": [
        "#Método Python minimalista\n",
        "for i in range(10): print(random.randrange(100))"
      ],
      "metadata": {
        "id": "i_WP18910ubR",
        "colab": {
          "base_uri": "https://localhost:8080/"
        },
        "outputId": "38b6752c-fcad-4c84-811b-e541a3aeeb75"
      },
      "execution_count": 8,
      "outputs": [
        {
          "output_type": "stream",
          "name": "stdout",
          "text": [
            "39\n",
            "32\n",
            "86\n",
            "87\n",
            "59\n",
            "84\n",
            "62\n",
            "93\n",
            "73\n",
            "96\n"
          ]
        }
      ]
    },
    {
      "cell_type": "code",
      "source": [
        "import numpy as np\n",
        "from random import randint\n",
        "matriz = np.array([[i+1, randint(1,25000)] for i in range(6)])\n",
        "ganador = np.where(matriz[:,1] == matriz[:,1].max())\n",
        "print(\"Las votaciones fueron: \\n\" + str(matriz) + \" \\n El ganador es: \" + str(matriz[ganador[0]]))"
      ],
      "metadata": {
        "id": "LyIk_lG-zYLe",
        "colab": {
          "base_uri": "https://localhost:8080/"
        },
        "outputId": "104490d7-0b87-49d6-ad89-15b4b0eaaf24"
      },
      "execution_count": 10,
      "outputs": [
        {
          "output_type": "stream",
          "name": "stdout",
          "text": [
            "Las votaciones fueron: \n",
            "[[    1  2048]\n",
            " [    2 19852]\n",
            " [    3  8713]\n",
            " [    4 20313]\n",
            " [    5 21317]\n",
            " [    6 15875]] \n",
            " El ganador es: [[    5 21317]]\n"
          ]
        }
      ]
    },
    {
      "cell_type": "code",
      "source": [
        "import numpy as np\n",
        "matriz = np.random.uniform(8.2,10,size=(4,5))\n",
        "tot_vueltas = np.array([[corredor+1,matriz[:,corredor].sum()] \n",
        "for corredor in range(len(matriz[0]))])\n",
        "ganador=np.where(matriz == matriz[:,1].min())\n",
        "print (\"Resultados de la carrera: \\n\\n\"+str(matriz)+\"\\n\\n El Piloto ganador fue el: \"+str(tot_vueltas[ganador[0]]))"
      ],
      "metadata": {
        "id": "Gt_lqO9mzv63",
        "colab": {
          "base_uri": "https://localhost:8080/"
        },
        "outputId": "e25ac46d-819b-4b40-81b6-79fdf0b009b9"
      },
      "execution_count": 11,
      "outputs": [
        {
          "output_type": "stream",
          "name": "stdout",
          "text": [
            "Resultados de la carrera: \n",
            "\n",
            "[[8.73499276 8.55607425 9.46190517 8.72034706 9.30930904]\n",
            " [8.72955987 9.98222376 9.21931415 9.35013421 9.04408291]\n",
            " [9.29703113 9.20786021 8.58839891 9.32706358 8.28516292]\n",
            " [9.16744812 8.57886279 9.81042306 8.83922262 8.62327815]]\n",
            "\n",
            " El Piloto ganador fue el: [[ 1.         35.92903188]]\n"
          ]
        }
      ]
    },
    {
      "cell_type": "markdown",
      "source": [
        "#Combinando todo lo anterios\n",
        "\n",
        "Diseñe un programa que me genere un listado con las edades de N habitantes de una ciudad, donde la cantidad de habitantes sea un valor randomico entre 1000 y 50000 y la edad de cada persona también debe ser un randomico entre 1 y 100 años. Al final del el programa me debe indicar cuanto es la población total y el porcentaje de cuantos son mayores de edad (>=18) y cuantos no"
      ],
      "metadata": {
        "id": "H4HIxnrD01rt"
      }
    },
    {
      "cell_type": "code",
      "source": [
        "from random import randint\n",
        "censo = [randint(1,100) for x in range(randint(10000,70000))]\n",
        "Menor18 = [edad for edad in censo if edad <= 17]\n",
        "print(\"Ciudad: Habitantes: \"+str(len(censo))+ \", votantes (mayores de 18)->\"+str(len(Menor18))+ \" es el \"+ str(len(Menor18)*100/len(censo))+\"%\")"
      ],
      "metadata": {
        "id": "XAWa7Pp107dq",
        "colab": {
          "base_uri": "https://localhost:8080/"
        },
        "outputId": "edd2b454-d99a-4654-b34c-b63d7c1005d3"
      },
      "execution_count": 27,
      "outputs": [
        {
          "output_type": "stream",
          "name": "stdout",
          "text": [
            "Ciudad: Habitantes: 13744, votantes (mayores de 18)->2362 es el 17.18568102444703%\n"
          ]
        }
      ]
    },
    {
      "cell_type": "markdown",
      "source": [
        "#Usando librería numpy\n",
        "\n",
        "Diseñe un programa (máximo 5 líneas) donde 6 candidat@s se disputan la alcaldía (ayuntamiento municipal), los candidat@s de los siguientes partidos:\n",
        "\n",
        "1. – socio-democratico \n",
        "2. – Ultra-derechista \n",
        "3. – primero los ricos \n",
        "4. – Centro demoniaco \n",
        "5. – Cambio invertido \n",
        "6. – Alianza queremos más pobres\n",
        "\n",
        "Los votos de cada candidato son generados de forma aleatoria entre 1 y 25000 votos máximo, el software debe determinar quién fue el ganador. (utilicé la librería numpy)"
      ],
      "metadata": {
        "id": "RAS4ngdC1A4h"
      }
    },
    {
      "cell_type": "code",
      "source": [
        "import numpy as np\n",
        "from random import randint\n",
        "matriz = np.array([[i+1,randint(1,20000)] for i in range(6)])\n",
        "ganador = np.where(matriz[:,1] == matriz[:,1].max())\n",
        "print(\"las votaciones:\\n\"+str(matriz)+\"\\n El ganador es: \"+str(matriz[ganador[0]]))"
      ],
      "metadata": {
        "id": "beoQ-w_f1Mdn",
        "colab": {
          "base_uri": "https://localhost:8080/"
        },
        "outputId": "3103eb35-9972-4c32-b4b4-71facb4a70f6"
      },
      "execution_count": 13,
      "outputs": [
        {
          "output_type": "stream",
          "name": "stdout",
          "text": [
            "las votaciones:\n",
            "[[    1  8098]\n",
            " [    2  2479]\n",
            " [    3 19226]\n",
            " [    4 19913]\n",
            " [    5 17387]\n",
            " [    6 13774]]\n",
            " El ganador es: [[    4 19913]]\n"
          ]
        }
      ]
    },
    {
      "cell_type": "markdown",
      "source": [
        "Diseñe un programa donde 6 candidat@s se presentan a la disputa para la Gobernación del departamento (estado), los candid@tos de los siguientes partidos:\n",
        "\n",
        "1. – socio-democratico \n",
        "2. – Ultra-derechista \n",
        "3. – primero los ricos \n",
        "4. – Centro demoniaco \n",
        "5. – Cambio invertido \n",
        "6. – Alianza queremos más pobres\n",
        "\n",
        "Los votos de cada candidat@s son generados de forma aleatoria entre 1 y 4500 votos máximo para cada uno de los 123 municipios del departamento, el software debe determinar quién fue ganador@.\n",
        "\n",
        "Nota: Creamos una matriz llamada votos, compuesta por 123 filas (municipios) y 6 columnas (candidat@s) y cuyo valor de cada celda sea un randomico entre 1 y 3000"
      ],
      "metadata": {
        "id": "235OSw8W1RWl"
      }
    },
    {
      "cell_type": "code",
      "source": [
        "import numpy as np; from random import randint\n",
        "votos_20xx = np.random.randint(3000,size=(123,6))\n",
        "tot_votos = np.array([[candidato+1,votos_20xx[:,candidato].sum()] for candidato in range(len(votos_20xx[0]))])\n",
        "ganador = np.where(tot_votos == tot_votos[:,1].max())\n",
        "print(\"El candidato ganador fue el: \"+str(tot_votos[ganador[0]])+\"\\n El total de votos por candidato es \\n\"+str(tot_votos))"
      ],
      "metadata": {
        "id": "wkGPsZHU1axO",
        "colab": {
          "base_uri": "https://localhost:8080/"
        },
        "outputId": "3d11c98d-0517-4931-8b34-5c9601c52bb1"
      },
      "execution_count": 14,
      "outputs": [
        {
          "output_type": "stream",
          "name": "stdout",
          "text": [
            "El candidato ganador fue el: [[     1 208241]]\n",
            " El total de votos por candidato es \n",
            "[[     1 208241]\n",
            " [     2 187427]\n",
            " [     3 181449]\n",
            " [     4 195695]\n",
            " [     5 184497]\n",
            " [     6 180834]]\n"
          ]
        }
      ]
    },
    {
      "cell_type": "markdown",
      "source": [
        "Crear un programa en PYTHON para simular una carrera de formula uno, en donde: Existen 5 vehículos\n",
        "\n",
        "Renault Ferrari Mercedez, Ford Red bull\n",
        "\n",
        "La carrera esta diseñada para 4 vueltas donde el tiempo mínimo es 8.2 segundos y el máximo es 10 segundos.\n",
        "\n",
        "Diseñe la matriz de 5 x 4 donde determine cual es el vehículo ganador donde los tiempos de cada vehículo por vuelta se un randomico."
      ],
      "metadata": {
        "id": "r7Q8Obq31dAZ"
      }
    },
    {
      "cell_type": "code",
      "source": [
        "import numpy as np\n",
        "matriz = np.random.uniform(8.2,10,size=(4,5))\n",
        "tot_vueltas = np.array([[corredor+1,matriz[:,corredor].sum()] for corredor in range(len(matriz[0]))])\n",
        "ganador=np.where(matriz == matriz[:,1].min())\n",
        "print (\"Resultados de la carrera:\\n\"+str(matriz)+\"\\nEl Piloto ganador fue el: \"+str(tot_vueltas[ganador[0]])) "
      ],
      "metadata": {
        "id": "cmsjdXid1eKg",
        "colab": {
          "base_uri": "https://localhost:8080/"
        },
        "outputId": "472043cb-c2b3-4ac4-afb3-fe773baf59d2"
      },
      "execution_count": 15,
      "outputs": [
        {
          "output_type": "stream",
          "name": "stdout",
          "text": [
            "Resultados de la carrera:\n",
            "[[9.58223601 9.96607135 9.31406871 8.98273865 9.28008418]\n",
            " [8.48810256 9.84080418 8.2829831  9.31826553 9.15787059]\n",
            " [9.63285696 9.10825835 9.42314858 8.46963883 9.33654592]\n",
            " [8.57073446 9.75763184 8.43013923 8.93570439 9.35169686]]\n",
            "El Piloto ganador fue el: [[ 3.         35.45033963]]\n"
          ]
        }
      ]
    },
    {
      "cell_type": "markdown",
      "source": [
        "#Graficando valores (matplotlib)"
      ],
      "metadata": {
        "id": "yRbLnKFY1gB9"
      }
    },
    {
      "cell_type": "code",
      "source": [
        "import matplotlib.pyplot as plt\n",
        "plt.plot([10, 20, 40, 20])\n",
        "plt.ylabel(\"graficos basico\")\n",
        "plt.show()"
      ],
      "metadata": {
        "id": "rkuP7udJ1kvH",
        "colab": {
          "base_uri": "https://localhost:8080/",
          "height": 265
        },
        "outputId": "2004dc27-013e-4edb-bf61-d21f4e8f7c24"
      },
      "execution_count": 16,
      "outputs": [
        {
          "output_type": "display_data",
          "data": {
            "image/png": "[encoded data removed]",
            "text/plain": [
              "<Figure size 432x288 with 1 Axes>"
            ]
          },
          "metadata": {
            "needs_background": "light"
          }
        }
      ]
    },
    {
      "cell_type": "code",
      "source": [
        "import matplotlib.pyplot as plt\n",
        "import random\n",
        "lista= [ random.randrange(10) for i in range(10)]\n",
        "plt.plot(lista,'ro')\n",
        "plt.ylabel(\"números randomicos de 0 a 10\")\n",
        "plt.show()"
      ],
      "metadata": {
        "id": "kaXSVETB1myi",
        "colab": {
          "base_uri": "https://localhost:8080/",
          "height": 265
        },
        "outputId": "38545895-3fa0-405f-a3c6-c86a89873772"
      },
      "execution_count": 17,
      "outputs": [
        {
          "output_type": "display_data",
          "data": {
            "image/png": "[encoded data removed]",
            "text/plain": [
              "<Figure size 432x288 with 1 Axes>"
            ]
          },
          "metadata": {
            "needs_background": "light"
          }
        }
      ]
    },
    {
      "cell_type": "markdown",
      "source": [
        "Graficando los candidat@s a la alcaldía"
      ],
      "metadata": {
        "id": "84ceU6751qVl"
      }
    },
    {
      "cell_type": "code",
      "source": [
        "import numpy as np ; from random import randint; import matplotlib.pyplot as plt\n",
        "matriz = np.array([[i+1, randint(1,20000)] for i in range(6)]) \n",
        "ganador= np.where(matriz == matriz[:,1].max())\n",
        "#Diagrama de Barras\n",
        "fig = plt.figure('Gráfica de barras') #Generacion de ventana\n",
        "ax = fig.add_subplot(1,1,1) #Un eje coordenado \n",
        "nombres = ['1 – socio-democratico','2 – Ultra-derechista','3 – primero los ricos','4 – Centro demoniaco','5 – Cambio invertido','6 – Alianza queremos más pobres']#Arreglo con los partidos\n",
        "ax.bar(range(len(matriz)),matriz[:,1])#Funcion var para diagramar, con parametros de votos y puntos a ubicar\n",
        "ax.set_xticks(range(len(matriz[:,1]))) #Numero de puntos a ubicar\n",
        "ax.set_xticklabels(nombres,rotation='vertical') #Agregar etiquetas a cada punto ubicado en el eje x\n",
        "plt.ylabel(\"Total votos\");plt.xlabel(\"Candidatos\")\n",
        "plt.show()  "
      ],
      "metadata": {
        "id": "163uyBa21r11",
        "colab": {
          "base_uri": "https://localhost:8080/",
          "height": 437
        },
        "outputId": "ebb3b83d-6386-47d5-b4c7-650360ae38b9"
      },
      "execution_count": 18,
      "outputs": [
        {
          "output_type": "display_data",
          "data": {
            "image/png": "[encoded data removed]",
            "text/plain": [
              "<Figure size 432x288 with 1 Axes>"
            ]
          },
          "metadata": {
            "needs_background": "light"
          }
        }
      ]
    },
    {
      "cell_type": "markdown",
      "source": [
        "P1Tx (carrera de formular 1) – dispersión (colores por cada vehículo)"
      ],
      "metadata": {
        "id": "i5VGDE2a1tGr"
      }
    },
    {
      "cell_type": "code",
      "source": [
        "import numpy as np\n",
        "matriz = np.random.uniform(8.2,10,size=(4,5))\n",
        "tot_vueltas = np.array([[corredor+1,matriz[:,corredor].sum()] for corredor in range(len(matriz[0]))])\n",
        "ganador = np.where(matriz == matriz[:,1].min())\n",
        "print(\" El tiempo total por cada corredor fue: \" + \"\\n\" + str(tot_vueltas) + \"\\n\" + \" El corrdor ganador fue el numero: \" + str(tot_vueltas[ganador[0]]))\n",
        "#Diagrama de dispersion\n",
        "x = tot_vueltas[:,1]\n",
        "y = tot_vueltas[:,0]\n",
        "fig = plt.figure()\n",
        "fig.add_subplot(111)\n",
        "plt.xlabel('Corredores')\n",
        "plt.ylabel('Total tiempo')\n",
        "plt.scatter(y, x, c=x)\n",
        "plt.show()"
      ],
      "metadata": {
        "id": "9BiydZ3P1vS-",
        "colab": {
          "base_uri": "https://localhost:8080/",
          "height": 406
        },
        "outputId": "cc7a0a09-fa51-4474-982a-fd5255d33803"
      },
      "execution_count": 19,
      "outputs": [
        {
          "output_type": "stream",
          "name": "stdout",
          "text": [
            " El tiempo total por cada corredor fue: \n",
            "[[ 1.         34.39585439]\n",
            " [ 2.         38.38713574]\n",
            " [ 3.         36.59449373]\n",
            " [ 4.         37.6911084 ]\n",
            " [ 5.         37.47116512]]\n",
            " El corrdor ganador fue el numero: [[ 3.         36.59449373]]\n"
          ]
        },
        {
          "output_type": "display_data",
          "data": {
            "image/png": "[encoded data removed]",
            "text/plain": [
              "<Figure size 432x288 with 1 Axes>"
            ]
          },
          "metadata": {
            "needs_background": "light"
          }
        }
      ]
    }
  ]
}
